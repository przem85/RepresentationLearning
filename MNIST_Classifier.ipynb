{
 "cells": [
  {
   "cell_type": "code",
   "execution_count": 52,
   "metadata": {},
   "outputs": [],
   "source": [
    "import sys\n",
    "sys.path.insert(0, '..')\n",
    "\n",
    "import torch\n",
    "import numpy as np\n",
    "import matplotlib.pyplot as plt\n",
    "%matplotlib inline\n"
   ]
  },
  {
   "cell_type": "markdown",
   "metadata": {},
   "source": [
    "# Rozwiązywanie problemu klasyfikacji XOR"
   ]
  },
  {
   "cell_type": "markdown",
   "metadata": {},
   "source": [
    "Tworzymy prosty zbiór danych"
   ]
  },
  {
   "cell_type": "code",
   "execution_count": 53,
   "metadata": {},
   "outputs": [
    {
     "data": {
      "image/png": "[encoded data removed]",
      "text/plain": [
       "<Figure size 432x432 with 1 Axes>"
      ]
     },
     "metadata": {
      "needs_background": "light"
     },
     "output_type": "display_data"
    }
   ],
   "source": [
    "np.random.seed(1)\n",
    "torch.manual_seed(1)\n",
    "x = np.random.uniform(low=-1, high=1, size=(200, 2))\n",
    "y = np.ones(len(x))\n",
    "y[x[:, 0] * x[:, 1]<0] = 0\n",
    "\n",
    "n_train = 100\n",
    "x_train = torch.tensor(x[:n_train, :], dtype=torch.float32)\n",
    "y_train = torch.tensor(y[:n_train], dtype=torch.float32)\n",
    "x_valid = torch.tensor(x[n_train:, :], dtype=torch.float32)\n",
    "y_valid = torch.tensor(y[n_train:], dtype=torch.float32)\n",
    "\n",
    "fig = plt.figure(figsize=(6, 6))\n",
    "plt.plot(x[y==0, 0], \n",
    "         x[y==0, 1], 'o', alpha=0.75, markersize=10)\n",
    "plt.plot(x[y==1, 0], \n",
    "         x[y==1, 1], '<', alpha=0.75, markersize=10)\n",
    "plt.xlabel(r'$x_1$', size=15)\n",
    "plt.ylabel(r'$x_2$', size=15)\n",
    "\n",
    "#plt.savefig('figures/13_02.png', dpi=300)\n",
    "plt.show()"
   ]
  },
  {
   "cell_type": "markdown",
   "metadata": {},
   "source": [
    "Tworzymy dataloder"
   ]
  },
  {
   "cell_type": "code",
   "execution_count": 54,
   "metadata": {},
   "outputs": [],
   "source": [
    "from torch.utils.data import DataLoader, TensorDataset\n",
    " \n",
    "    \n",
    "train_ds = TensorDataset(x_train, y_train)\n",
    "batch_size = 2\n",
    "torch.manual_seed(1)\n",
    "train_dl = DataLoader(train_ds, batch_size, shuffle=True)"
   ]
  },
  {
   "cell_type": "markdown",
   "metadata": {},
   "source": [
    "Tworzymy prostą sieć"
   ]
  },
  {
   "cell_type": "code",
   "execution_count": 55,
   "metadata": {},
   "outputs": [
    {
     "data": {
      "text/plain": [
       "Sequential(\n",
       "  (0): Linear(in_features=2, out_features=1, bias=True)\n",
       "  (1): Sigmoid()\n",
       ")"
      ]
     },
     "execution_count": 55,
     "metadata": {},
     "output_type": "execute_result"
    }
   ],
   "source": [
    "import torch.nn as nn\n",
    "\n",
    "model = nn.Sequential(\n",
    "    nn.Linear(2, 1),\n",
    "    nn.Sigmoid()\n",
    ")\n",
    "\n",
    "model"
   ]
  },
  {
   "cell_type": "markdown",
   "metadata": {},
   "source": [
    "Dodatkowe informacje\n",
    "\n",
    "* Initializers nn.init: https://pytorch.org/docs/stable/nn.init.html\n",
    "* L1 Regularizers nn.L1Loss: https://pytorch.org/docs/stable/generated/torch.nn.L1Loss.html#torch.nn.L1Loss\n",
    "* L2 Regularizers weight_decay: https://pytorch.org/docs/stable/optim.html\n",
    "* Activations: https://pytorch.org/docs/stable/nn.html#non-linear-activations-weighted-sum-nonlinearity"
   ]
  },
  {
   "cell_type": "code",
   "execution_count": 56,
   "metadata": {},
   "outputs": [],
   "source": [
    "loss_fn = nn.BCELoss()\n",
    "optimizer = torch.optim.SGD(model.parameters(), lr=0.001)"
   ]
  },
  {
   "cell_type": "code",
   "execution_count": 57,
   "metadata": {},
   "outputs": [],
   "source": [
    "torch.manual_seed(1)\n",
    "num_epochs = 200"
   ]
  },
  {
   "cell_type": "code",
   "execution_count": 58,
   "metadata": {},
   "outputs": [],
   "source": [
    "def train(model, num_epochs, train_dl, x_valid, y_valid):\n",
    "    loss_hist_train = [0] * num_epochs\n",
    "    accuracy_hist_train = [0] * num_epochs\n",
    "    loss_hist_valid = [0] * num_epochs\n",
    "    accuracy_hist_valid = [0] * num_epochs\n",
    "    for epoch in range(num_epochs):\n",
    "        for x_batch, y_batch in train_dl:\n",
    "            pred = model(x_batch)[:, 0]\n",
    "            loss = loss_fn(pred, y_batch)\n",
    "            loss.backward()\n",
    "            optimizer.step()\n",
    "            optimizer.zero_grad()\n",
    "            loss_hist_train[epoch] += loss.item()\n",
    "            is_correct = ((pred>=0.5).float() == y_batch).float()\n",
    "            accuracy_hist_train[epoch] += is_correct.mean()\n",
    "\n",
    "        loss_hist_train[epoch] /= n_train/batch_size\n",
    "        accuracy_hist_train[epoch] /= n_train/batch_size\n",
    "\n",
    "        pred = model(x_valid)[:, 0]\n",
    "        loss = loss_fn(pred, y_valid)\n",
    "        loss_hist_valid[epoch] = loss.item()\n",
    "        is_correct = ((pred>=0.5).float() == y_valid).float()\n",
    "        accuracy_hist_valid[epoch] += is_correct.mean()\n",
    "        print(\"Epoach\", epoch ,\"Acc val \", accuracy_hist_valid[epoch].numpy(), \"Acc train\", accuracy_hist_train[epoch].numpy())\n",
    "    return loss_hist_train, loss_hist_valid, accuracy_hist_train, accuracy_hist_valid\n",
    "\n"
   ]
  },
  {
   "cell_type": "code",
   "execution_count": 59,
   "metadata": {},
   "outputs": [
    {
     "name": "stdout",
     "output_type": "stream",
     "text": [
      "Epoach 0 Acc val  0.43 Acc train 0.38\n",
      "Epoach 1 Acc val  0.42 Acc train 0.39\n",
      "Epoach 2 Acc val  0.42 Acc train 0.38\n",
      "Epoach 3 Acc val  0.42 Acc train 0.39\n",
      "Epoach 4 Acc val  0.42 Acc train 0.39\n",
      "Epoach 5 Acc val  0.42 Acc train 0.39\n",
      "Epoach 6 Acc val  0.42 Acc train 0.39\n",
      "Epoach 7 Acc val  0.42 Acc train 0.39\n",
      "Epoach 8 Acc val  0.42 Acc train 0.41\n",
      "Epoach 9 Acc val  0.42 Acc train 0.41\n",
      "Epoach 10 Acc val  0.42 Acc train 0.41\n",
      "Epoach 11 Acc val  0.42 Acc train 0.41\n",
      "Epoach 12 Acc val  0.43 Acc train 0.42\n",
      "Epoach 13 Acc val  0.43 Acc train 0.43\n",
      "Epoach 14 Acc val  0.43 Acc train 0.43\n",
      "Epoach 15 Acc val  0.43 Acc train 0.43\n",
      "Epoach 16 Acc val  0.44 Acc train 0.43\n",
      "Epoach 17 Acc val  0.44 Acc train 0.43\n",
      "Epoach 18 Acc val  0.45 Acc train 0.43\n",
      "Epoach 19 Acc val  0.44 Acc train 0.44\n",
      "Epoach 20 Acc val  0.44 Acc train 0.44\n",
      "Epoach 21 Acc val  0.44 Acc train 0.44\n",
      "Epoach 22 Acc val  0.45 Acc train 0.44\n",
      "Epoach 23 Acc val  0.46 Acc train 0.44\n",
      "Epoach 24 Acc val  0.46 Acc train 0.44\n",
      "Epoach 25 Acc val  0.49 Acc train 0.44\n",
      "Epoach 26 Acc val  0.5 Acc train 0.44\n",
      "Epoach 27 Acc val  0.51 Acc train 0.44\n",
      "Epoach 28 Acc val  0.51 Acc train 0.44\n",
      "Epoach 29 Acc val  0.52 Acc train 0.45\n",
      "Epoach 30 Acc val  0.52 Acc train 0.47\n",
      "Epoach 31 Acc val  0.53 Acc train 0.47\n",
      "Epoach 32 Acc val  0.53 Acc train 0.48\n",
      "Epoach 33 Acc val  0.53 Acc train 0.5\n",
      "Epoach 34 Acc val  0.54 Acc train 0.5\n",
      "Epoach 35 Acc val  0.54 Acc train 0.5\n",
      "Epoach 36 Acc val  0.53 Acc train 0.5\n",
      "Epoach 37 Acc val  0.54 Acc train 0.5\n",
      "Epoach 38 Acc val  0.54 Acc train 0.5\n",
      "Epoach 39 Acc val  0.54 Acc train 0.5\n",
      "Epoach 40 Acc val  0.54 Acc train 0.5\n",
      "Epoach 41 Acc val  0.54 Acc train 0.5\n",
      "Epoach 42 Acc val  0.54 Acc train 0.5\n",
      "Epoach 43 Acc val  0.54 Acc train 0.5\n",
      "Epoach 44 Acc val  0.55 Acc train 0.5\n",
      "Epoach 45 Acc val  0.55 Acc train 0.51\n",
      "Epoach 46 Acc val  0.55 Acc train 0.51\n",
      "Epoach 47 Acc val  0.56 Acc train 0.51\n",
      "Epoach 48 Acc val  0.56 Acc train 0.51\n",
      "Epoach 49 Acc val  0.57 Acc train 0.51\n",
      "Epoach 50 Acc val  0.57 Acc train 0.51\n",
      "Epoach 51 Acc val  0.57 Acc train 0.51\n",
      "Epoach 52 Acc val  0.57 Acc train 0.51\n",
      "Epoach 53 Acc val  0.57 Acc train 0.51\n",
      "Epoach 54 Acc val  0.58 Acc train 0.51\n",
      "Epoach 55 Acc val  0.59 Acc train 0.51\n",
      "Epoach 56 Acc val  0.59 Acc train 0.52\n",
      "Epoach 57 Acc val  0.59 Acc train 0.52\n",
      "Epoach 58 Acc val  0.6 Acc train 0.52\n",
      "Epoach 59 Acc val  0.6 Acc train 0.53\n",
      "Epoach 60 Acc val  0.6 Acc train 0.54\n",
      "Epoach 61 Acc val  0.6 Acc train 0.54\n",
      "Epoach 62 Acc val  0.6 Acc train 0.54\n",
      "Epoach 63 Acc val  0.62 Acc train 0.54\n",
      "Epoach 64 Acc val  0.63 Acc train 0.54\n",
      "Epoach 65 Acc val  0.63 Acc train 0.54\n",
      "Epoach 66 Acc val  0.63 Acc train 0.54\n",
      "Epoach 67 Acc val  0.63 Acc train 0.54\n",
      "Epoach 68 Acc val  0.63 Acc train 0.54\n",
      "Epoach 69 Acc val  0.63 Acc train 0.54\n",
      "Epoach 70 Acc val  0.64 Acc train 0.54\n",
      "Epoach 71 Acc val  0.64 Acc train 0.54\n",
      "Epoach 72 Acc val  0.64 Acc train 0.54\n",
      "Epoach 73 Acc val  0.64 Acc train 0.54\n",
      "Epoach 74 Acc val  0.64 Acc train 0.54\n",
      "Epoach 75 Acc val  0.64 Acc train 0.54\n",
      "Epoach 76 Acc val  0.64 Acc train 0.55\n",
      "Epoach 77 Acc val  0.64 Acc train 0.56\n",
      "Epoach 78 Acc val  0.63 Acc train 0.56\n",
      "Epoach 79 Acc val  0.64 Acc train 0.56\n",
      "Epoach 80 Acc val  0.64 Acc train 0.57\n",
      "Epoach 81 Acc val  0.64 Acc train 0.57\n",
      "Epoach 82 Acc val  0.64 Acc train 0.57\n",
      "Epoach 83 Acc val  0.64 Acc train 0.58\n",
      "Epoach 84 Acc val  0.63 Acc train 0.58\n",
      "Epoach 85 Acc val  0.63 Acc train 0.58\n",
      "Epoach 86 Acc val  0.63 Acc train 0.58\n",
      "Epoach 87 Acc val  0.63 Acc train 0.58\n",
      "Epoach 88 Acc val  0.63 Acc train 0.58\n",
      "Epoach 89 Acc val  0.64 Acc train 0.58\n",
      "Epoach 90 Acc val  0.64 Acc train 0.59\n",
      "Epoach 91 Acc val  0.64 Acc train 0.59\n",
      "Epoach 92 Acc val  0.64 Acc train 0.59\n",
      "Epoach 93 Acc val  0.65 Acc train 0.59\n",
      "Epoach 94 Acc val  0.65 Acc train 0.6\n",
      "Epoach 95 Acc val  0.65 Acc train 0.6\n",
      "Epoach 96 Acc val  0.66 Acc train 0.6\n",
      "Epoach 97 Acc val  0.66 Acc train 0.59\n",
      "Epoach 98 Acc val  0.66 Acc train 0.59\n",
      "Epoach 99 Acc val  0.66 Acc train 0.59\n",
      "Epoach 100 Acc val  0.66 Acc train 0.59\n",
      "Epoach 101 Acc val  0.66 Acc train 0.59\n",
      "Epoach 102 Acc val  0.66 Acc train 0.59\n",
      "Epoach 103 Acc val  0.65 Acc train 0.6\n",
      "Epoach 104 Acc val  0.65 Acc train 0.6\n",
      "Epoach 105 Acc val  0.65 Acc train 0.6\n",
      "Epoach 106 Acc val  0.65 Acc train 0.59\n",
      "Epoach 107 Acc val  0.65 Acc train 0.6\n",
      "Epoach 108 Acc val  0.65 Acc train 0.59\n",
      "Epoach 109 Acc val  0.65 Acc train 0.59\n",
      "Epoach 110 Acc val  0.65 Acc train 0.59\n",
      "Epoach 111 Acc val  0.65 Acc train 0.58\n",
      "Epoach 112 Acc val  0.65 Acc train 0.58\n",
      "Epoach 113 Acc val  0.65 Acc train 0.58\n",
      "Epoach 114 Acc val  0.65 Acc train 0.59\n",
      "Epoach 115 Acc val  0.65 Acc train 0.6\n",
      "Epoach 116 Acc val  0.65 Acc train 0.6\n",
      "Epoach 117 Acc val  0.65 Acc train 0.6\n",
      "Epoach 118 Acc val  0.65 Acc train 0.6\n",
      "Epoach 119 Acc val  0.66 Acc train 0.6\n",
      "Epoach 120 Acc val  0.66 Acc train 0.6\n",
      "Epoach 121 Acc val  0.66 Acc train 0.6\n",
      "Epoach 122 Acc val  0.67 Acc train 0.61\n",
      "Epoach 123 Acc val  0.67 Acc train 0.61\n",
      "Epoach 124 Acc val  0.67 Acc train 0.61\n",
      "Epoach 125 Acc val  0.67 Acc train 0.61\n",
      "Epoach 126 Acc val  0.67 Acc train 0.62\n",
      "Epoach 127 Acc val  0.67 Acc train 0.62\n",
      "Epoach 128 Acc val  0.67 Acc train 0.62\n",
      "Epoach 129 Acc val  0.67 Acc train 0.62\n",
      "Epoach 130 Acc val  0.67 Acc train 0.62\n",
      "Epoach 131 Acc val  0.67 Acc train 0.62\n",
      "Epoach 132 Acc val  0.67 Acc train 0.62\n",
      "Epoach 133 Acc val  0.67 Acc train 0.62\n",
      "Epoach 134 Acc val  0.67 Acc train 0.62\n",
      "Epoach 135 Acc val  0.67 Acc train 0.62\n",
      "Epoach 136 Acc val  0.67 Acc train 0.62\n",
      "Epoach 137 Acc val  0.67 Acc train 0.62\n",
      "Epoach 138 Acc val  0.67 Acc train 0.62\n",
      "Epoach 139 Acc val  0.67 Acc train 0.62\n",
      "Epoach 140 Acc val  0.68 Acc train 0.62\n",
      "Epoach 141 Acc val  0.68 Acc train 0.62\n",
      "Epoach 142 Acc val  0.68 Acc train 0.62\n",
      "Epoach 143 Acc val  0.68 Acc train 0.62\n",
      "Epoach 144 Acc val  0.67 Acc train 0.62\n",
      "Epoach 145 Acc val  0.67 Acc train 0.62\n",
      "Epoach 146 Acc val  0.67 Acc train 0.62\n",
      "Epoach 147 Acc val  0.67 Acc train 0.62\n",
      "Epoach 148 Acc val  0.67 Acc train 0.62\n",
      "Epoach 149 Acc val  0.67 Acc train 0.62\n",
      "Epoach 150 Acc val  0.67 Acc train 0.62\n",
      "Epoach 151 Acc val  0.67 Acc train 0.62\n",
      "Epoach 152 Acc val  0.67 Acc train 0.62\n",
      "Epoach 153 Acc val  0.67 Acc train 0.62\n",
      "Epoach 154 Acc val  0.67 Acc train 0.62\n",
      "Epoach 155 Acc val  0.67 Acc train 0.62\n",
      "Epoach 156 Acc val  0.67 Acc train 0.62\n",
      "Epoach 157 Acc val  0.67 Acc train 0.62\n",
      "Epoach 158 Acc val  0.68 Acc train 0.63\n",
      "Epoach 159 Acc val  0.68 Acc train 0.63\n",
      "Epoach 160 Acc val  0.68 Acc train 0.63\n",
      "Epoach 161 Acc val  0.68 Acc train 0.63\n",
      "Epoach 162 Acc val  0.68 Acc train 0.63\n",
      "Epoach 163 Acc val  0.68 Acc train 0.63\n",
      "Epoach 164 Acc val  0.68 Acc train 0.63\n",
      "Epoach 165 Acc val  0.68 Acc train 0.63\n",
      "Epoach 166 Acc val  0.68 Acc train 0.63\n",
      "Epoach 167 Acc val  0.68 Acc train 0.63\n",
      "Epoach 168 Acc val  0.68 Acc train 0.63\n",
      "Epoach 169 Acc val  0.68 Acc train 0.62\n",
      "Epoach 170 Acc val  0.68 Acc train 0.62\n",
      "Epoach 171 Acc val  0.68 Acc train 0.62\n",
      "Epoach 172 Acc val  0.68 Acc train 0.63\n",
      "Epoach 173 Acc val  0.68 Acc train 0.62\n",
      "Epoach 174 Acc val  0.69 Acc train 0.62\n",
      "Epoach 175 Acc val  0.69 Acc train 0.62\n",
      "Epoach 176 Acc val  0.69 Acc train 0.62\n",
      "Epoach 177 Acc val  0.7 Acc train 0.62\n",
      "Epoach 178 Acc val  0.7 Acc train 0.63\n",
      "Epoach 179 Acc val  0.7 Acc train 0.62\n",
      "Epoach 180 Acc val  0.7 Acc train 0.62\n",
      "Epoach 181 Acc val  0.71 Acc train 0.63\n",
      "Epoach 182 Acc val  0.71 Acc train 0.64\n",
      "Epoach 183 Acc val  0.71 Acc train 0.63\n",
      "Epoach 184 Acc val  0.71 Acc train 0.64\n",
      "Epoach 185 Acc val  0.71 Acc train 0.64\n",
      "Epoach 186 Acc val  0.71 Acc train 0.64\n",
      "Epoach 187 Acc val  0.71 Acc train 0.64\n",
      "Epoach 188 Acc val  0.71 Acc train 0.64\n",
      "Epoach 189 Acc val  0.71 Acc train 0.64\n",
      "Epoach 190 Acc val  0.71 Acc train 0.64\n",
      "Epoach 191 Acc val  0.71 Acc train 0.64\n",
      "Epoach 192 Acc val  0.71 Acc train 0.64\n",
      "Epoach 193 Acc val  0.71 Acc train 0.64\n",
      "Epoach 194 Acc val  0.71 Acc train 0.64\n",
      "Epoach 195 Acc val  0.71 Acc train 0.64\n",
      "Epoach 196 Acc val  0.71 Acc train 0.64\n",
      "Epoach 197 Acc val  0.71 Acc train 0.64\n",
      "Epoach 198 Acc val  0.71 Acc train 0.65\n",
      "Epoach 199 Acc val  0.71 Acc train 0.64\n"
     ]
    }
   ],
   "source": [
    "history = train(model, num_epochs, train_dl, x_valid, y_valid)"
   ]
  },
  {
   "cell_type": "code",
   "execution_count": 61,
   "metadata": {},
   "outputs": [
    {
     "data": {
      "text/plain": [
       "Text(0.5, 0, 'Epochs')"
      ]
     },
     "execution_count": 61,
     "metadata": {},
     "output_type": "execute_result"
    },
    {
     "data": {
      "image/png": "[encoded data removed]",
      "text/plain": [
       "<Figure size 1152x288 with 2 Axes>"
      ]
     },
     "metadata": {
      "needs_background": "light"
     },
     "output_type": "display_data"
    }
   ],
   "source": [
    "fig = plt.figure(figsize=(16, 4))\n",
    "ax = fig.add_subplot(1, 2, 1)\n",
    "plt.plot(history[0], lw=4)\n",
    "plt.plot(history[1], lw=4)\n",
    "plt.legend(['Train loss', 'Validation loss'], fontsize=15)\n",
    "ax.set_xlabel('Epochs', size=15)\n",
    "\n",
    "ax = fig.add_subplot(1, 2, 2)\n",
    "plt.plot(history[2], lw=4)\n",
    "plt.plot(history[3], lw=4)\n",
    "plt.legend(['Train acc.', 'Validation acc.'], fontsize=15)\n",
    "ax.set_xlabel('Epochs', size=15)\n",
    "\n",
    "#plt.savefig('figures/13_03.png', dpi=300)"
   ]
  },
  {
   "cell_type": "markdown",
   "metadata": {},
   "source": [
    "To samo ale bardzie profesjonalnie"
   ]
  },
  {
   "cell_type": "code",
   "execution_count": 69,
   "metadata": {},
   "outputs": [
    {
     "data": {
      "text/plain": [
       "MyModule(\n",
       "  (module_list): ModuleList(\n",
       "    (0): Linear(in_features=2, out_features=4, bias=True)\n",
       "    (1): ReLU()\n",
       "    (2): Linear(in_features=4, out_features=4, bias=True)\n",
       "    (3): ReLU()\n",
       "    (4): Linear(in_features=4, out_features=1, bias=True)\n",
       "    (5): Sigmoid()\n",
       "  )\n",
       ")"
      ]
     },
     "execution_count": 69,
     "metadata": {},
     "output_type": "execute_result"
    }
   ],
   "source": [
    "class MyModule(nn.Module):\n",
    "    def __init__(self):\n",
    "        super().__init__()\n",
    "        l1 = nn.Linear(2, 4)\n",
    "        a1 = nn.ReLU()\n",
    "        l2 = nn.Linear(4, 4)\n",
    "        a2 = nn.ReLU()\n",
    "        l3 = nn.Linear(4, 1)\n",
    "        a3 = nn.Sigmoid()\n",
    "        l = [l1, a1, l2, a2, l3, a3]\n",
    "        self.module_list = nn.ModuleList(l)\n",
    "\n",
    "    def forward(self, x):\n",
    "        for f in self.module_list:\n",
    "            x = f(x)\n",
    "        return x\n",
    "    \n",
    "    def predict(self, x):\n",
    "        x = torch.tensor(x, dtype=torch.float32)\n",
    "        pred = self.forward(x)[:, 0]\n",
    "        return (pred>=0.5).float()\n",
    "            \n",
    "model = MyModule()\n",
    "model"
   ]
  },
  {
   "cell_type": "code",
   "execution_count": 70,
   "metadata": {},
   "outputs": [
    {
     "name": "stdout",
     "output_type": "stream",
     "text": [
      "Epoach 0 Acc val  0.44 Acc train 0.45\n",
      "Epoach 1 Acc val  0.5 Acc train 0.48\n",
      "Epoach 2 Acc val  0.52 Acc train 0.49\n",
      "Epoach 3 Acc val  0.52 Acc train 0.53\n",
      "Epoach 4 Acc val  0.53 Acc train 0.55\n",
      "Epoach 5 Acc val  0.53 Acc train 0.59\n",
      "Epoach 6 Acc val  0.53 Acc train 0.56\n",
      "Epoach 7 Acc val  0.53 Acc train 0.57\n",
      "Epoach 8 Acc val  0.53 Acc train 0.6\n",
      "Epoach 9 Acc val  0.54 Acc train 0.6\n",
      "Epoach 10 Acc val  0.55 Acc train 0.61\n",
      "Epoach 11 Acc val  0.56 Acc train 0.6\n",
      "Epoach 12 Acc val  0.57 Acc train 0.6\n",
      "Epoach 13 Acc val  0.58 Acc train 0.61\n",
      "Epoach 14 Acc val  0.58 Acc train 0.6\n",
      "Epoach 15 Acc val  0.59 Acc train 0.61\n",
      "Epoach 16 Acc val  0.59 Acc train 0.6\n",
      "Epoach 17 Acc val  0.58 Acc train 0.62\n",
      "Epoach 18 Acc val  0.59 Acc train 0.61\n",
      "Epoach 19 Acc val  0.6 Acc train 0.63\n",
      "Epoach 20 Acc val  0.6 Acc train 0.63\n",
      "Epoach 21 Acc val  0.61 Acc train 0.63\n",
      "Epoach 22 Acc val  0.6 Acc train 0.64\n",
      "Epoach 23 Acc val  0.6 Acc train 0.65\n",
      "Epoach 24 Acc val  0.6 Acc train 0.64\n",
      "Epoach 25 Acc val  0.63 Acc train 0.65\n",
      "Epoach 26 Acc val  0.62 Acc train 0.66\n",
      "Epoach 27 Acc val  0.63 Acc train 0.67\n",
      "Epoach 28 Acc val  0.63 Acc train 0.65\n",
      "Epoach 29 Acc val  0.65 Acc train 0.64\n",
      "Epoach 30 Acc val  0.65 Acc train 0.69\n",
      "Epoach 31 Acc val  0.67 Acc train 0.69\n",
      "Epoach 32 Acc val  0.67 Acc train 0.68\n",
      "Epoach 33 Acc val  0.68 Acc train 0.7\n",
      "Epoach 34 Acc val  0.7 Acc train 0.69\n",
      "Epoach 35 Acc val  0.68 Acc train 0.7\n",
      "Epoach 36 Acc val  0.69 Acc train 0.67\n",
      "Epoach 37 Acc val  0.69 Acc train 0.66\n",
      "Epoach 38 Acc val  0.68 Acc train 0.67\n",
      "Epoach 39 Acc val  0.68 Acc train 0.72\n",
      "Epoach 40 Acc val  0.7 Acc train 0.73\n",
      "Epoach 41 Acc val  0.68 Acc train 0.72\n",
      "Epoach 42 Acc val  0.7 Acc train 0.74\n",
      "Epoach 43 Acc val  0.69 Acc train 0.73\n",
      "Epoach 44 Acc val  0.69 Acc train 0.74\n",
      "Epoach 45 Acc val  0.7 Acc train 0.74\n",
      "Epoach 46 Acc val  0.7 Acc train 0.73\n",
      "Epoach 47 Acc val  0.7 Acc train 0.73\n",
      "Epoach 48 Acc val  0.69 Acc train 0.72\n",
      "Epoach 49 Acc val  0.69 Acc train 0.72\n",
      "Epoach 50 Acc val  0.69 Acc train 0.72\n",
      "Epoach 51 Acc val  0.7 Acc train 0.72\n",
      "Epoach 52 Acc val  0.71 Acc train 0.73\n",
      "Epoach 53 Acc val  0.71 Acc train 0.73\n",
      "Epoach 54 Acc val  0.72 Acc train 0.73\n",
      "Epoach 55 Acc val  0.72 Acc train 0.72\n",
      "Epoach 56 Acc val  0.72 Acc train 0.74\n",
      "Epoach 57 Acc val  0.72 Acc train 0.74\n",
      "Epoach 58 Acc val  0.72 Acc train 0.73\n",
      "Epoach 59 Acc val  0.72 Acc train 0.74\n",
      "Epoach 60 Acc val  0.72 Acc train 0.74\n",
      "Epoach 61 Acc val  0.71 Acc train 0.74\n",
      "Epoach 62 Acc val  0.71 Acc train 0.73\n",
      "Epoach 63 Acc val  0.72 Acc train 0.73\n",
      "Epoach 64 Acc val  0.72 Acc train 0.74\n",
      "Epoach 65 Acc val  0.73 Acc train 0.74\n",
      "Epoach 66 Acc val  0.73 Acc train 0.74\n",
      "Epoach 67 Acc val  0.73 Acc train 0.75\n",
      "Epoach 68 Acc val  0.73 Acc train 0.73\n",
      "Epoach 69 Acc val  0.72 Acc train 0.75\n",
      "Epoach 70 Acc val  0.74 Acc train 0.73\n",
      "Epoach 71 Acc val  0.73 Acc train 0.75\n",
      "Epoach 72 Acc val  0.74 Acc train 0.73\n",
      "Epoach 73 Acc val  0.74 Acc train 0.73\n",
      "Epoach 74 Acc val  0.75 Acc train 0.74\n",
      "Epoach 75 Acc val  0.75 Acc train 0.74\n",
      "Epoach 76 Acc val  0.75 Acc train 0.75\n",
      "Epoach 77 Acc val  0.74 Acc train 0.75\n",
      "Epoach 78 Acc val  0.74 Acc train 0.77\n",
      "Epoach 79 Acc val  0.75 Acc train 0.74\n",
      "Epoach 80 Acc val  0.73 Acc train 0.75\n",
      "Epoach 81 Acc val  0.74 Acc train 0.76\n",
      "Epoach 82 Acc val  0.74 Acc train 0.77\n",
      "Epoach 83 Acc val  0.74 Acc train 0.75\n",
      "Epoach 84 Acc val  0.74 Acc train 0.75\n",
      "Epoach 85 Acc val  0.74 Acc train 0.76\n",
      "Epoach 86 Acc val  0.75 Acc train 0.75\n",
      "Epoach 87 Acc val  0.75 Acc train 0.74\n",
      "Epoach 88 Acc val  0.75 Acc train 0.76\n",
      "Epoach 89 Acc val  0.75 Acc train 0.76\n",
      "Epoach 90 Acc val  0.75 Acc train 0.76\n",
      "Epoach 91 Acc val  0.75 Acc train 0.75\n",
      "Epoach 92 Acc val  0.74 Acc train 0.77\n",
      "Epoach 93 Acc val  0.75 Acc train 0.76\n",
      "Epoach 94 Acc val  0.75 Acc train 0.75\n",
      "Epoach 95 Acc val  0.74 Acc train 0.77\n",
      "Epoach 96 Acc val  0.75 Acc train 0.77\n",
      "Epoach 97 Acc val  0.74 Acc train 0.76\n",
      "Epoach 98 Acc val  0.74 Acc train 0.76\n",
      "Epoach 99 Acc val  0.74 Acc train 0.76\n",
      "Epoach 100 Acc val  0.74 Acc train 0.76\n",
      "Epoach 101 Acc val  0.73 Acc train 0.76\n",
      "Epoach 102 Acc val  0.74 Acc train 0.77\n",
      "Epoach 103 Acc val  0.74 Acc train 0.77\n",
      "Epoach 104 Acc val  0.74 Acc train 0.77\n",
      "Epoach 105 Acc val  0.75 Acc train 0.76\n",
      "Epoach 106 Acc val  0.74 Acc train 0.77\n",
      "Epoach 107 Acc val  0.74 Acc train 0.76\n",
      "Epoach 108 Acc val  0.76 Acc train 0.77\n",
      "Epoach 109 Acc val  0.74 Acc train 0.78\n",
      "Epoach 110 Acc val  0.75 Acc train 0.77\n",
      "Epoach 111 Acc val  0.75 Acc train 0.78\n",
      "Epoach 112 Acc val  0.74 Acc train 0.76\n",
      "Epoach 113 Acc val  0.75 Acc train 0.76\n",
      "Epoach 114 Acc val  0.75 Acc train 0.79\n",
      "Epoach 115 Acc val  0.74 Acc train 0.79\n",
      "Epoach 116 Acc val  0.75 Acc train 0.78\n",
      "Epoach 117 Acc val  0.75 Acc train 0.78\n",
      "Epoach 118 Acc val  0.75 Acc train 0.77\n",
      "Epoach 119 Acc val  0.73 Acc train 0.78\n",
      "Epoach 120 Acc val  0.74 Acc train 0.79\n",
      "Epoach 121 Acc val  0.74 Acc train 0.77\n",
      "Epoach 122 Acc val  0.75 Acc train 0.79\n",
      "Epoach 123 Acc val  0.74 Acc train 0.78\n",
      "Epoach 124 Acc val  0.75 Acc train 0.79\n",
      "Epoach 125 Acc val  0.75 Acc train 0.78\n",
      "Epoach 126 Acc val  0.76 Acc train 0.78\n",
      "Epoach 127 Acc val  0.75 Acc train 0.79\n",
      "Epoach 128 Acc val  0.74 Acc train 0.78\n",
      "Epoach 129 Acc val  0.74 Acc train 0.78\n",
      "Epoach 130 Acc val  0.75 Acc train 0.78\n",
      "Epoach 131 Acc val  0.73 Acc train 0.78\n",
      "Epoach 132 Acc val  0.75 Acc train 0.79\n",
      "Epoach 133 Acc val  0.75 Acc train 0.78\n",
      "Epoach 134 Acc val  0.75 Acc train 0.78\n",
      "Epoach 135 Acc val  0.73 Acc train 0.79\n",
      "Epoach 136 Acc val  0.74 Acc train 0.79\n",
      "Epoach 137 Acc val  0.75 Acc train 0.79\n",
      "Epoach 138 Acc val  0.74 Acc train 0.79\n",
      "Epoach 139 Acc val  0.75 Acc train 0.78\n",
      "Epoach 140 Acc val  0.75 Acc train 0.79\n",
      "Epoach 141 Acc val  0.75 Acc train 0.79\n",
      "Epoach 142 Acc val  0.75 Acc train 0.78\n",
      "Epoach 143 Acc val  0.73 Acc train 0.79\n",
      "Epoach 144 Acc val  0.75 Acc train 0.78\n",
      "Epoach 145 Acc val  0.74 Acc train 0.78\n",
      "Epoach 146 Acc val  0.75 Acc train 0.77\n",
      "Epoach 147 Acc val  0.74 Acc train 0.77\n",
      "Epoach 148 Acc val  0.75 Acc train 0.78\n",
      "Epoach 149 Acc val  0.75 Acc train 0.78\n",
      "Epoach 150 Acc val  0.75 Acc train 0.79\n",
      "Epoach 151 Acc val  0.75 Acc train 0.78\n",
      "Epoach 152 Acc val  0.75 Acc train 0.78\n",
      "Epoach 153 Acc val  0.75 Acc train 0.79\n",
      "Epoach 154 Acc val  0.75 Acc train 0.77\n",
      "Epoach 155 Acc val  0.73 Acc train 0.78\n",
      "Epoach 156 Acc val  0.75 Acc train 0.79\n",
      "Epoach 157 Acc val  0.75 Acc train 0.78\n",
      "Epoach 158 Acc val  0.75 Acc train 0.78\n",
      "Epoach 159 Acc val  0.74 Acc train 0.78\n",
      "Epoach 160 Acc val  0.74 Acc train 0.79\n",
      "Epoach 161 Acc val  0.75 Acc train 0.78\n",
      "Epoach 162 Acc val  0.76 Acc train 0.79\n",
      "Epoach 163 Acc val  0.74 Acc train 0.79\n",
      "Epoach 164 Acc val  0.74 Acc train 0.79\n",
      "Epoach 165 Acc val  0.75 Acc train 0.78\n",
      "Epoach 166 Acc val  0.76 Acc train 0.79\n",
      "Epoach 167 Acc val  0.74 Acc train 0.78\n",
      "Epoach 168 Acc val  0.75 Acc train 0.78\n",
      "Epoach 169 Acc val  0.74 Acc train 0.77\n",
      "Epoach 170 Acc val  0.74 Acc train 0.77\n",
      "Epoach 171 Acc val  0.75 Acc train 0.78\n",
      "Epoach 172 Acc val  0.75 Acc train 0.78\n",
      "Epoach 173 Acc val  0.75 Acc train 0.79\n",
      "Epoach 174 Acc val  0.75 Acc train 0.78\n",
      "Epoach 175 Acc val  0.74 Acc train 0.77\n",
      "Epoach 176 Acc val  0.74 Acc train 0.78\n",
      "Epoach 177 Acc val  0.74 Acc train 0.79\n",
      "Epoach 178 Acc val  0.74 Acc train 0.78\n",
      "Epoach 179 Acc val  0.73 Acc train 0.8\n",
      "Epoach 180 Acc val  0.75 Acc train 0.78\n",
      "Epoach 181 Acc val  0.73 Acc train 0.8\n",
      "Epoach 182 Acc val  0.75 Acc train 0.78\n",
      "Epoach 183 Acc val  0.74 Acc train 0.79\n",
      "Epoach 184 Acc val  0.74 Acc train 0.78\n",
      "Epoach 185 Acc val  0.75 Acc train 0.78\n",
      "Epoach 186 Acc val  0.73 Acc train 0.78\n",
      "Epoach 187 Acc val  0.75 Acc train 0.79\n",
      "Epoach 188 Acc val  0.76 Acc train 0.77\n",
      "Epoach 189 Acc val  0.76 Acc train 0.78\n",
      "Epoach 190 Acc val  0.75 Acc train 0.78\n",
      "Epoach 191 Acc val  0.75 Acc train 0.79\n",
      "Epoach 192 Acc val  0.74 Acc train 0.79\n",
      "Epoach 193 Acc val  0.75 Acc train 0.79\n",
      "Epoach 194 Acc val  0.74 Acc train 0.78\n",
      "Epoach 195 Acc val  0.75 Acc train 0.79\n",
      "Epoach 196 Acc val  0.75 Acc train 0.78\n",
      "Epoach 197 Acc val  0.74 Acc train 0.77\n",
      "Epoach 198 Acc val  0.75 Acc train 0.78\n",
      "Epoach 199 Acc val  0.73 Acc train 0.79\n"
     ]
    }
   ],
   "source": [
    "loss_fn = nn.BCELoss()\n",
    "optimizer = torch.optim.SGD(model.parameters(), lr=0.015)\n",
    "    \n",
    "# torch.manual_seed(1)\n",
    "history = train(model, num_epochs, train_dl, x_valid, y_valid)"
   ]
  },
  {
   "cell_type": "code",
   "execution_count": 71,
   "metadata": {},
   "outputs": [
    {
     "data": {
      "image/png": "[encoded data removed]",
      "text/plain": [
       "<Figure size 1152x288 with 3 Axes>"
      ]
     },
     "metadata": {
      "needs_background": "light"
     },
     "output_type": "display_data"
    }
   ],
   "source": [
    "from mlxtend.plotting import plot_decision_regions\n",
    "\n",
    "\n",
    "fig = plt.figure(figsize=(16, 4))\n",
    "ax = fig.add_subplot(1, 3, 1)\n",
    "plt.plot(history[0], lw=4)\n",
    "plt.plot(history[1], lw=4)\n",
    "plt.legend(['Train loss', 'Validation loss'], fontsize=15)\n",
    "ax.set_xlabel('Epochs', size=15)\n",
    "\n",
    "ax = fig.add_subplot(1, 3, 2)\n",
    "plt.plot(history[2], lw=4)\n",
    "plt.plot(history[3], lw=4)\n",
    "plt.legend(['Train acc.', 'Validation acc.'], fontsize=15)\n",
    "ax.set_xlabel('Epochs', size=15)\n",
    "\n",
    "ax = fig.add_subplot(1, 3, 3)\n",
    "plot_decision_regions(X=x_valid.numpy(), \n",
    "                      y=y_valid.numpy().astype(np.int64),\n",
    "                      clf=model)\n",
    "ax.set_xlabel(r'$x_1$', size=15)\n",
    "ax.xaxis.set_label_coords(1, -0.025)\n",
    "ax.set_ylabel(r'$x_2$', size=15)\n",
    "ax.yaxis.set_label_coords(-0.025, 1)\n",
    "\n",
    "#plt.savefig('figures/13_05.png', dpi=300)\n",
    "plt.show()"
   ]
  },
  {
   "cell_type": "markdown",
   "metadata": {},
   "source": [
    "# Klasyfikacja cyfr pisanych odręcznie MNIST"
   ]
  },
  {
   "cell_type": "code",
   "execution_count": 72,
   "metadata": {},
   "outputs": [
    {
     "name": "stdout",
     "output_type": "stream",
     "text": [
      "Downloading http://yann.lecun.com/exdb/mnist/train-images-idx3-ubyte.gz\n",
      "Downloading http://yann.lecun.com/exdb/mnist/train-images-idx3-ubyte.gz to ./MNIST\\raw\\train-images-idx3-ubyte.gz\n"
     ]
    },
    {
     "data": {
      "application/vnd.jupyter.widget-view+json": {
       "model_id": "f9edcd41085d4bcd8c80975385f01d59",
       "version_major": 2,
       "version_minor": 0
      },
      "text/plain": [
       "HBox(children=(HTML(value=''), FloatProgress(value=0.0, max=9912422.0), HTML(value='')))"
      ]
     },
     "metadata": {},
     "output_type": "display_data"
    },
    {
     "name": "stdout",
     "output_type": "stream",
     "text": [
      "\n",
      "Extracting ./MNIST\\raw\\train-images-idx3-ubyte.gz to ./MNIST\\raw\n",
      "\n",
      "Downloading http://yann.lecun.com/exdb/mnist/train-labels-idx1-ubyte.gz\n",
      "Downloading http://yann.lecun.com/exdb/mnist/train-labels-idx1-ubyte.gz to ./MNIST\\raw\\train-labels-idx1-ubyte.gz\n"
     ]
    },
    {
     "data": {
      "application/vnd.jupyter.widget-view+json": {
       "model_id": "ef444ef94aa14b7b875ff65e040213f0",
       "version_major": 2,
       "version_minor": 0
      },
      "text/plain": [
       "HBox(children=(HTML(value=''), FloatProgress(value=0.0, max=28881.0), HTML(value='')))"
      ]
     },
     "metadata": {},
     "output_type": "display_data"
    },
    {
     "name": "stdout",
     "output_type": "stream",
     "text": [
      "\n",
      "Extracting ./MNIST\\raw\\train-labels-idx1-ubyte.gz to ./MNIST\\raw\n",
      "\n",
      "Downloading http://yann.lecun.com/exdb/mnist/t10k-images-idx3-ubyte.gz\n",
      "Downloading http://yann.lecun.com/exdb/mnist/t10k-images-idx3-ubyte.gz to ./MNIST\\raw\\t10k-images-idx3-ubyte.gz\n"
     ]
    },
    {
     "data": {
      "application/vnd.jupyter.widget-view+json": {
       "model_id": "d53b596dadfb4a0c94d445f990aa93ea",
       "version_major": 2,
       "version_minor": 0
      },
      "text/plain": [
       "HBox(children=(HTML(value=''), FloatProgress(value=0.0, max=1648877.0), HTML(value='')))"
      ]
     },
     "metadata": {},
     "output_type": "display_data"
    },
    {
     "name": "stdout",
     "output_type": "stream",
     "text": [
      "\n",
      "Extracting ./MNIST\\raw\\t10k-images-idx3-ubyte.gz to ./MNIST\\raw\n",
      "\n",
      "Downloading http://yann.lecun.com/exdb/mnist/t10k-labels-idx1-ubyte.gz\n",
      "Downloading http://yann.lecun.com/exdb/mnist/t10k-labels-idx1-ubyte.gz to ./MNIST\\raw\\t10k-labels-idx1-ubyte.gz\n"
     ]
    },
    {
     "data": {
      "application/vnd.jupyter.widget-view+json": {
       "model_id": "c3dc22fa23c94254ad7b397eefa547bf",
       "version_major": 2,
       "version_minor": 0
      },
      "text/plain": [
       "HBox(children=(HTML(value=''), FloatProgress(value=0.0, max=4542.0), HTML(value='')))"
      ]
     },
     "metadata": {},
     "output_type": "display_data"
    },
    {
     "name": "stdout",
     "output_type": "stream",
     "text": [
      "\n",
      "Extracting ./MNIST\\raw\\t10k-labels-idx1-ubyte.gz to ./MNIST\\raw\n",
      "\n"
     ]
    },
    {
     "name": "stderr",
     "output_type": "stream",
     "text": [
      "C:\\ProgramData\\Anaconda3\\lib\\site-packages\\torchvision\\datasets\\mnist.py:498: UserWarning: The given NumPy array is not writeable, and PyTorch does not support non-writeable tensors. This means you can write to the underlying (supposedly non-writeable) NumPy array using the tensor. You may want to copy the array to protect its data or make it writeable before converting it to a tensor. This type of warning will be suppressed for the rest of this program. (Triggered internally at  ..\\torch\\csrc\\utils\\tensor_numpy.cpp:180.)\n",
      "  return torch.from_numpy(parsed.astype(m[2], copy=False)).view(*s)\n"
     ]
    }
   ],
   "source": [
    "import torchvision \n",
    "from torchvision import transforms \n",
    "\n",
    "\n",
    "image_path = './'\n",
    "transform = transforms.Compose([transforms.ToTensor()])\n",
    "\n",
    "mnist_train_dataset = torchvision.datasets.MNIST(root=image_path, \n",
    "                                           train=True, \n",
    "                                           transform=transform, \n",
    "                                           download=True)\n",
    "mnist_test_dataset = torchvision.datasets.MNIST(root=image_path, \n",
    "                                           train=False, \n",
    "                                           transform=transform, \n",
    "                                           download=False)\n",
    " \n",
    "batch_size = 64\n",
    "torch.manual_seed(1)\n",
    "train_dl = DataLoader(mnist_train_dataset, batch_size, shuffle=True)"
   ]
  },
  {
   "cell_type": "code",
   "execution_count": 73,
   "metadata": {},
   "outputs": [
    {
     "data": {
      "text/plain": [
       "Sequential(\n",
       "  (0): Flatten(start_dim=1, end_dim=-1)\n",
       "  (1): Linear(in_features=784, out_features=32, bias=True)\n",
       "  (2): ReLU()\n",
       "  (3): Linear(in_features=32, out_features=16, bias=True)\n",
       "  (4): ReLU()\n",
       "  (5): Linear(in_features=16, out_features=10, bias=True)\n",
       ")"
      ]
     },
     "execution_count": 73,
     "metadata": {},
     "output_type": "execute_result"
    }
   ],
   "source": [
    "hidden_units = [32, 16]\n",
    "image_size = mnist_train_dataset[0][0].shape\n",
    "input_size = image_size[0] * image_size[1] * image_size[2]\n",
    "\n",
    "all_layers = [nn.Flatten()]\n",
    "for hidden_unit in hidden_units:\n",
    "    layer = nn.Linear(input_size, hidden_unit)\n",
    "    all_layers.append(layer)\n",
    "    all_layers.append(nn.ReLU())\n",
    "    input_size = hidden_unit\n",
    "\n",
    "all_layers.append(nn.Linear(hidden_units[-1], 10))\n",
    "model = nn.Sequential(*all_layers)\n",
    "\n",
    "model"
   ]
  },
  {
   "cell_type": "code",
   "execution_count": 74,
   "metadata": {},
   "outputs": [
    {
     "name": "stdout",
     "output_type": "stream",
     "text": [
      "Epoch 0  Accuracy 0.8531\n",
      "Epoch 1  Accuracy 0.9287\n",
      "Epoch 2  Accuracy 0.9413\n",
      "Epoch 3  Accuracy 0.9506\n",
      "Epoch 4  Accuracy 0.9558\n",
      "Epoch 5  Accuracy 0.9592\n",
      "Epoch 6  Accuracy 0.9627\n",
      "Epoch 7  Accuracy 0.9650\n",
      "Epoch 8  Accuracy 0.9674\n",
      "Epoch 9  Accuracy 0.9690\n",
      "Epoch 10  Accuracy 0.9710\n",
      "Epoch 11  Accuracy 0.9729\n",
      "Epoch 12  Accuracy 0.9739\n",
      "Epoch 13  Accuracy 0.9750\n",
      "Epoch 14  Accuracy 0.9764\n",
      "Epoch 15  Accuracy 0.9777\n",
      "Epoch 16  Accuracy 0.9779\n",
      "Epoch 17  Accuracy 0.9798\n",
      "Epoch 18  Accuracy 0.9806\n",
      "Epoch 19  Accuracy 0.9813\n"
     ]
    }
   ],
   "source": [
    "loss_fn = nn.CrossEntropyLoss()\n",
    "optimizer = torch.optim.Adam(model.parameters(), lr=0.001)\n",
    "\n",
    "torch.manual_seed(1)\n",
    "num_epochs = 20\n",
    "for epoch in range(num_epochs):\n",
    "    accuracy_hist_train = 0\n",
    "    for x_batch, y_batch in train_dl:\n",
    "        pred = model(x_batch)\n",
    "        loss = loss_fn(pred, y_batch)\n",
    "        loss.backward()\n",
    "        optimizer.step()\n",
    "        optimizer.zero_grad()\n",
    "        is_correct = (torch.argmax(pred, dim=1) == y_batch).float()\n",
    "        accuracy_hist_train += is_correct.sum()\n",
    "    accuracy_hist_train /= len(train_dl.dataset)\n",
    "    print(f'Epoch {epoch}  Accuracy {accuracy_hist_train:.4f}')"
   ]
  },
  {
   "cell_type": "code",
   "execution_count": 75,
   "metadata": {},
   "outputs": [
    {
     "name": "stdout",
     "output_type": "stream",
     "text": [
      "Test accuracy: 0.9647\n"
     ]
    }
   ],
   "source": [
    "pred = model(mnist_test_dataset.data / 255.)\n",
    "is_correct = (torch.argmax(pred, dim=1) == mnist_test_dataset.targets).float()\n",
    "print(f'Test accuracy: {is_correct.mean():.4f}') \n",
    " "
   ]
  },
  {
   "cell_type": "markdown",
   "metadata": {},
   "source": [
    "# CNN MNIST"
   ]
  },
  {
   "cell_type": "code",
   "execution_count": 81,
   "metadata": {},
   "outputs": [],
   "source": [
    "from torch.utils.data import DataLoader\n",
    "import torchvision \n",
    "from torchvision import transforms \n",
    "image_path = './'\n",
    "transform = transforms.Compose([transforms.ToTensor()])\n",
    "\n",
    "mnist_dataset = torchvision.datasets.MNIST(root=image_path, \n",
    "                                           train=True, \n",
    "                                           transform=transform, \n",
    "                                           download=True)\n",
    "\n",
    "from torch.utils.data import Subset\n",
    "mnist_valid_dataset = Subset(mnist_dataset, torch.arange(10000)) \n",
    "mnist_train_dataset = Subset(mnist_dataset, torch.arange(10000, len(mnist_dataset)))\n",
    "mnist_test_dataset = torchvision.datasets.MNIST(root=image_path, \n",
    "                                           train=False, \n",
    "                                           transform=transform, \n",
    "                                           download=False)\n",
    "\n",
    "batch_size = 64\n",
    "torch.manual_seed(1)\n",
    "train_dl = DataLoader(mnist_train_dataset, batch_size, shuffle=True)\n",
    "valid_dl = DataLoader(mnist_valid_dataset, batch_size, shuffle=False)"
   ]
  },
  {
   "cell_type": "code",
   "execution_count": 82,
   "metadata": {},
   "outputs": [
    {
     "data": {
      "text/plain": [
       "torch.Size([4, 64, 7, 7])"
      ]
     },
     "execution_count": 82,
     "metadata": {},
     "output_type": "execute_result"
    }
   ],
   "source": [
    "model = nn.Sequential()\n",
    "model.add_module('conv1', nn.Conv2d(in_channels=1, out_channels=32, kernel_size=5, padding=2))\n",
    "model.add_module('relu1', nn.ReLU())        \n",
    "model.add_module('pool1', nn.MaxPool2d(kernel_size=2))   \n",
    "model.add_module('conv2', nn.Conv2d(in_channels=32, out_channels=64, kernel_size=5, padding=2))\n",
    "model.add_module('relu2', nn.ReLU())        \n",
    "model.add_module('pool2', nn.MaxPool2d(kernel_size=2))      \n",
    "\n",
    "x = torch.ones((4, 1, 28, 28))\n",
    "model(x).shape"
   ]
  },
  {
   "cell_type": "code",
   "execution_count": 83,
   "metadata": {},
   "outputs": [
    {
     "data": {
      "text/plain": [
       "torch.Size([4, 3136])"
      ]
     },
     "execution_count": 83,
     "metadata": {},
     "output_type": "execute_result"
    }
   ],
   "source": [
    "model.add_module('flatten', nn.Flatten()) \n",
    "\n",
    "x = torch.ones((4, 1, 28, 28))\n",
    "model(x).shape"
   ]
  },
  {
   "cell_type": "code",
   "execution_count": 84,
   "metadata": {},
   "outputs": [],
   "source": [
    "model.add_module('fc1', nn.Linear(3136, 1024)) \n",
    "model.add_module('relu3', nn.ReLU()) \n",
    "model.add_module('dropout', nn.Dropout(p=0.5)) \n",
    "\n",
    "model.add_module('fc2', nn.Linear(1024, 10)) "
   ]
  },
  {
   "cell_type": "code",
   "execution_count": 85,
   "metadata": {},
   "outputs": [],
   "source": [
    "# device = torch.device(\"cuda:0\")\n",
    "device = torch.device(\"cpu\")\n",
    "\n",
    "model = model.to(device) "
   ]
  },
  {
   "cell_type": "code",
   "execution_count": 86,
   "metadata": {},
   "outputs": [
    {
     "name": "stdout",
     "output_type": "stream",
     "text": [
      "Epoch 1 accuracy: 0.9487 val_accuracy: 0.9808\n",
      "Epoch 2 accuracy: 0.9837 val_accuracy: 0.9870\n",
      "Epoch 3 accuracy: 0.9888 val_accuracy: 0.9875\n",
      "Epoch 4 accuracy: 0.9913 val_accuracy: 0.9875\n",
      "Epoch 5 accuracy: 0.9931 val_accuracy: 0.9891\n",
      "Epoch 6 accuracy: 0.9948 val_accuracy: 0.9893\n",
      "Epoch 7 accuracy: 0.9957 val_accuracy: 0.9867\n",
      "Epoch 8 accuracy: 0.9961 val_accuracy: 0.9893\n",
      "Epoch 9 accuracy: 0.9961 val_accuracy: 0.9883\n",
      "Epoch 10 accuracy: 0.9968 val_accuracy: 0.9887\n",
      "Epoch 11 accuracy: 0.9965 val_accuracy: 0.9903\n",
      "Epoch 12 accuracy: 0.9976 val_accuracy: 0.9899\n",
      "Epoch 13 accuracy: 0.9974 val_accuracy: 0.9906\n",
      "Epoch 14 accuracy: 0.9977 val_accuracy: 0.9902\n",
      "Epoch 15 accuracy: 0.9977 val_accuracy: 0.9900\n",
      "Epoch 16 accuracy: 0.9980 val_accuracy: 0.9891\n",
      "Epoch 17 accuracy: 0.9981 val_accuracy: 0.9909\n",
      "Epoch 18 accuracy: 0.9979 val_accuracy: 0.9900\n",
      "Epoch 19 accuracy: 0.9983 val_accuracy: 0.9908\n",
      "Epoch 20 accuracy: 0.9982 val_accuracy: 0.9909\n"
     ]
    }
   ],
   "source": [
    "loss_fn = nn.CrossEntropyLoss()\n",
    "optimizer = torch.optim.Adam(model.parameters(), lr=0.001)\n",
    "\n",
    "def train(model, num_epochs, train_dl, valid_dl):\n",
    "    loss_hist_train = [0] * num_epochs\n",
    "    accuracy_hist_train = [0] * num_epochs\n",
    "    loss_hist_valid = [0] * num_epochs\n",
    "    accuracy_hist_valid = [0] * num_epochs\n",
    "    for epoch in range(num_epochs):\n",
    "        model.train()\n",
    "        for x_batch, y_batch in train_dl:\n",
    "            x_batch = x_batch.to(device) \n",
    "            y_batch = y_batch.to(device) \n",
    "            pred = model(x_batch)\n",
    "            loss = loss_fn(pred, y_batch)\n",
    "            loss.backward()\n",
    "            optimizer.step()\n",
    "            optimizer.zero_grad()\n",
    "            loss_hist_train[epoch] += loss.item()*y_batch.size(0)\n",
    "            is_correct = (torch.argmax(pred, dim=1) == y_batch).float()\n",
    "            accuracy_hist_train[epoch] += is_correct.sum().cpu()\n",
    "\n",
    "        loss_hist_train[epoch] /= len(train_dl.dataset)\n",
    "        accuracy_hist_train[epoch] /= len(train_dl.dataset)\n",
    "        \n",
    "        model.eval()\n",
    "        with torch.no_grad():\n",
    "            for x_batch, y_batch in valid_dl:\n",
    "                x_batch = x_batch.to(device) \n",
    "                y_batch = y_batch.to(device) \n",
    "                pred = model(x_batch)\n",
    "                loss = loss_fn(pred, y_batch)\n",
    "                loss_hist_valid[epoch] += loss.item()*y_batch.size(0) \n",
    "                is_correct = (torch.argmax(pred, dim=1) == y_batch).float() \n",
    "                accuracy_hist_valid[epoch] += is_correct.sum().cpu()\n",
    "\n",
    "        loss_hist_valid[epoch] /= len(valid_dl.dataset)\n",
    "        accuracy_hist_valid[epoch] /= len(valid_dl.dataset)\n",
    "        \n",
    "        print(f'Epoch {epoch+1} accuracy: {accuracy_hist_train[epoch]:.4f} val_accuracy: {accuracy_hist_valid[epoch]:.4f}')\n",
    "    return loss_hist_train, loss_hist_valid, accuracy_hist_train, accuracy_hist_valid\n",
    "\n",
    "torch.manual_seed(1)\n",
    "num_epochs = 20\n",
    "hist = train(model, num_epochs, train_dl, valid_dl)"
   ]
  },
  {
   "cell_type": "code",
   "execution_count": 87,
   "metadata": {},
   "outputs": [
    {
     "data": {
      "image/png": "[encoded data removed]",
      "text/plain": [
       "<Figure size 864x288 with 2 Axes>"
      ]
     },
     "metadata": {
      "needs_background": "light"
     },
     "output_type": "display_data"
    }
   ],
   "source": [
    "import matplotlib.pyplot as plt\n",
    "\n",
    "\n",
    "x_arr = np.arange(len(hist[0])) + 1\n",
    "\n",
    "fig = plt.figure(figsize=(12, 4))\n",
    "ax = fig.add_subplot(1, 2, 1)\n",
    "ax.plot(x_arr, hist[0], '-o', label='Train loss')\n",
    "ax.plot(x_arr, hist[1], '--<', label='Validation loss')\n",
    "ax.set_xlabel('Epoch', size=15)\n",
    "ax.set_ylabel('Loss', size=15)\n",
    "ax.legend(fontsize=15)\n",
    "ax = fig.add_subplot(1, 2, 2)\n",
    "ax.plot(x_arr, hist[2], '-o', label='Train acc.')\n",
    "ax.plot(x_arr, hist[3], '--<', label='Validation acc.')\n",
    "ax.legend(fontsize=15)\n",
    "ax.set_xlabel('Epoch', size=15)\n",
    "ax.set_ylabel('Accuracy', size=15)\n",
    "\n",
    "#plt.savefig('figures/14_13.png')\n",
    "plt.show()"
   ]
  },
  {
   "cell_type": "code",
   "execution_count": 89,
   "metadata": {},
   "outputs": [
    {
     "name": "stdout",
     "output_type": "stream",
     "text": [
      "Test accuracy: 0.9924\n"
     ]
    }
   ],
   "source": [
    "# torch.cuda.synchronize()\n",
    "model_cpu = model.cpu()\n",
    "pred = model(mnist_test_dataset.data.unsqueeze(1) / 255.)\n",
    "is_correct = (torch.argmax(pred, dim=1) == mnist_test_dataset.targets).float()\n",
    "print(f'Test accuracy: {is_correct.mean():.4f}') "
   ]
  },
  {
   "cell_type": "code",
   "execution_count": 90,
   "metadata": {},
   "outputs": [
    {
     "data": {
      "image/png": "[encoded data removed]",
      "text/plain": [
       "<Figure size 864x288 with 12 Axes>"
      ]
     },
     "metadata": {},
     "output_type": "display_data"
    }
   ],
   "source": [
    "fig = plt.figure(figsize=(12, 4))\n",
    "for i in range(12):\n",
    "    ax = fig.add_subplot(2, 6, i+1)\n",
    "    ax.set_xticks([]); ax.set_yticks([])\n",
    "    img = mnist_test_dataset[i][0][0, :, :]\n",
    "    pred = model(img.unsqueeze(0).unsqueeze(1))\n",
    "    y_pred = torch.argmax(pred)\n",
    "    ax.imshow(img, cmap='gray_r')\n",
    "    ax.text(0.9, 0.1, y_pred.item(), \n",
    "            size=15, color='blue',\n",
    "            horizontalalignment='center',\n",
    "            verticalalignment='center', \n",
    "            transform=ax.transAxes)\n",
    "    \n",
    "    \n",
    "#plt.savefig('figures/14_14.png')\n",
    "plt.show()"
   ]
  },
  {
   "cell_type": "code",
   "execution_count": null,
   "metadata": {},
   "outputs": [],
   "source": []
  }
 ],
 "metadata": {
  "kernelspec": {
   "display_name": "Python 3",
   "language": "python",
   "name": "python3"
  },
  "language_info": {
   "codemirror_mode": {
    "name": "ipython",
    "version": 3
   },
   "file_extension": ".py",
   "mimetype": "text/x-python",
   "name": "python",
   "nbconvert_exporter": "python",
   "pygments_lexer": "ipython3",
   "version": "3.8.5"
  }
 },
 "nbformat": 4,
 "nbformat_minor": 4
}
